{
 "cells": [
  {
   "cell_type": "markdown",
   "metadata": {},
   "source": [
    "# SQL-6\n",
    "\n",
    "### Functions and Triggers, and Rules"
   ]
  },
  {
   "cell_type": "markdown",
   "metadata": {},
   "source": [
    "---\n",
    "### Setup the environment"
   ]
  },
  {
   "cell_type": "code",
   "execution_count": null,
   "metadata": {},
   "outputs": [],
   "source": [
    "pip install ipython-sql psycopg2"
   ]
  },
  {
   "cell_type": "code",
   "execution_count": null,
   "metadata": {},
   "outputs": [],
   "source": [
    "%load_ext sql"
   ]
  },
  {
   "cell_type": "markdown",
   "metadata": {},
   "source": [
    "**Note** For this activity make sure to drop and create a new `cricdb` database. Run the following command from postgres commandline.\n",
    "\n",
    "postgres# `drop database if exists cricdb;`\n",
    "\n",
    "postgres# `create database cricdb;`\n",
    "\n",
    "* Also make sure to shutdown or restart any kernels with active connection"
   ]
  },
  {
   "cell_type": "code",
   "execution_count": 2,
   "metadata": {},
   "outputs": [],
   "source": [
    "%sql postgresql://postgres@localhost:5432/cricdb"
   ]
  },
  {
   "cell_type": "markdown",
   "metadata": {},
   "source": [
    "---"
   ]
  },
  {
   "cell_type": "markdown",
   "metadata": {},
   "source": [
    "### A simple trigger"
   ]
  },
  {
   "cell_type": "code",
   "execution_count": null,
   "metadata": {},
   "outputs": [],
   "source": [
    "%sql drop table if exists player\n",
    "%sql drop table if exists team"
   ]
  },
  {
   "cell_type": "code",
   "execution_count": null,
   "metadata": {},
   "outputs": [],
   "source": [
    "%%sql create table player (\n",
    "    player_id integer,\n",
    "    first_name varchar(25),\n",
    "    last_name varchar(25),\n",
    "    dob date,\n",
    "    team_id integer\n",
    ")"
   ]
  },
  {
   "cell_type": "code",
   "execution_count": null,
   "metadata": {},
   "outputs": [],
   "source": [
    "%%sql create table team (\n",
    "    team_id integer,\n",
    "    team_name varchar(50),\n",
    "    team_owner varchar(50)\n",
    ")"
   ]
  },
  {
   "cell_type": "code",
   "execution_count": null,
   "metadata": {},
   "outputs": [],
   "source": [
    "%%sql create or replace function add_dummy_team() returns trigger\n",
    "as $example$\n",
    "    begin\n",
    "        insert into team values (NEW.team_id, 'dummy', 'dummy' );\n",
    "        return NEW;\n",
    "    end;\n",
    "$example$ language plpgsql"
   ]
  },
  {
   "cell_type": "code",
   "execution_count": null,
   "metadata": {},
   "outputs": [],
   "source": [
    "%%sql create trigger example_trigger after insert on player\n",
    "    for each row\n",
    "    execute procedure add_dummy_team();"
   ]
  },
  {
   "cell_type": "code",
   "execution_count": null,
   "metadata": {},
   "outputs": [],
   "source": [
    "%sql select * from team;"
   ]
  },
  {
   "cell_type": "code",
   "execution_count": null,
   "metadata": {},
   "outputs": [],
   "source": [
    "%sql select * from player;"
   ]
  },
  {
   "cell_type": "code",
   "execution_count": null,
   "metadata": {},
   "outputs": [],
   "source": [
    "%%sql insert into player \n",
    "    values (1, 'Hardik', 'Pandya', '1993-10-11', 101);"
   ]
  },
  {
   "cell_type": "code",
   "execution_count": null,
   "metadata": {},
   "outputs": [],
   "source": [
    "%sql select * from team;"
   ]
  },
  {
   "cell_type": "code",
   "execution_count": null,
   "metadata": {},
   "outputs": [],
   "source": [
    "%sql select * from player;"
   ]
  },
  {
   "cell_type": "code",
   "execution_count": null,
   "metadata": {},
   "outputs": [],
   "source": [
    "%%sql insert into player \n",
    "    values (2, 'MS', 'Dhoni', '1981-07-07', 101);"
   ]
  },
  {
   "cell_type": "markdown",
   "metadata": {},
   "source": [
    "---\n",
    "\n",
    "### Deleting a trigger"
   ]
  },
  {
   "cell_type": "code",
   "execution_count": null,
   "metadata": {},
   "outputs": [],
   "source": [
    "%sql drop trigger example_trigger on player;"
   ]
  },
  {
   "cell_type": "code",
   "execution_count": null,
   "metadata": {},
   "outputs": [],
   "source": [
    "%%sql insert into player \n",
    "    values (3, 'Rohit', 'Sharma', '1987-04-30', 101);"
   ]
  },
  {
   "cell_type": "markdown",
   "metadata": {},
   "source": [
    "Q: check contents of relations `player` and `team`"
   ]
  },
  {
   "cell_type": "markdown",
   "metadata": {},
   "source": [
    "---\n"
   ]
  },
  {
   "cell_type": "markdown",
   "metadata": {},
   "source": [
    "### Example usecase: using functions and triggers to log (or audit)"
   ]
  },
  {
   "cell_type": "code",
   "execution_count": null,
   "metadata": {},
   "outputs": [],
   "source": [
    "%sql drop table if exists player\n"
   ]
  },
  {
   "cell_type": "code",
   "execution_count": null,
   "metadata": {},
   "outputs": [],
   "source": [
    "%%sql create table player (\n",
    "    player_id integer not null,\n",
    "    first_name varchar(25) not null,\n",
    "    last_name varchar(25) not null,\n",
    "    dob date not null,\n",
    "    team_id integer\n",
    ")"
   ]
  },
  {
   "cell_type": "code",
   "execution_count": null,
   "metadata": {},
   "outputs": [],
   "source": [
    "%%sql create table player_log (\n",
    "    player_id integer not null,\n",
    "    team_id integer,\n",
    "    last_op text,\n",
    "    last_update timestamp with time zone,\n",
    "    primary key(player_id, last_update)\n",
    ")"
   ]
  },
  {
   "cell_type": "code",
   "execution_count": null,
   "metadata": {},
   "outputs": [],
   "source": [
    "%%sql create or replace function add_to_player_log() returns trigger\n",
    "as $$\n",
    "    begin\n",
    "        insert into player_log\n",
    "            values (OLD.player_id, old.team_id, TG_OP, now());\n",
    "        return new;\n",
    "    end;\n",
    "$$ language plpgsql\n",
    "        "
   ]
  },
  {
   "cell_type": "code",
   "execution_count": null,
   "metadata": {},
   "outputs": [],
   "source": [
    "%%sql create trigger player_log_trigger after delete or update on player\n",
    "    for each row\n",
    "    execute procedure add_to_player_log();"
   ]
  },
  {
   "cell_type": "code",
   "execution_count": null,
   "metadata": {},
   "outputs": [],
   "source": [
    "%%sql insert into player \n",
    "    values (1, 'Hardik', 'Pandya', '1993-10-11', 101);"
   ]
  },
  {
   "cell_type": "code",
   "execution_count": null,
   "metadata": {},
   "outputs": [],
   "source": [
    "%sql select * from player_log"
   ]
  },
  {
   "cell_type": "code",
   "execution_count": null,
   "metadata": {},
   "outputs": [],
   "source": [
    "%sql select * from player"
   ]
  },
  {
   "cell_type": "code",
   "execution_count": null,
   "metadata": {},
   "outputs": [],
   "source": [
    "%sql update player set team_id = 102"
   ]
  },
  {
   "cell_type": "code",
   "execution_count": null,
   "metadata": {},
   "outputs": [],
   "source": [
    "%sql delete from player where player_id = 1;"
   ]
  },
  {
   "cell_type": "markdown",
   "metadata": {},
   "source": [
    "---\n",
    "### Notes on Event Triggers\n",
    "\n",
    "```\n",
    "create trigger example_trigger AFTER INSERT ON table_name\n",
    "    for each row ...`\n",
    "```\n",
    "\n",
    "#### Type \n",
    "* insert\n",
    "* delete\n",
    "* update [of column_name[,...]]\n",
    "\n",
    "#### Granularity\n",
    "* for each row\n",
    "* for each statement\n",
    "\n",
    "\n",
    "#### When\n",
    "* Before\n",
    "* After\n",
    "\n",
    "\n",
    "---\n",
    "Q: Try out writing different triggers based on the above aspects and find out `how many times` does the function gets executed. (when does it gets called once and when many times?)\n",
    "\n",
    "---\n",
    "Q: What are some common use cases of triggers?\n",
    "\n",
    "---\n",
    "Q: What are some advantages and disadvantages of triggers?\n",
    "\n",
    "---"
   ]
  },
  {
   "cell_type": "markdown",
   "metadata": {},
   "source": [
    "### Handling updates on views using event triggers"
   ]
  },
  {
   "cell_type": "code",
   "execution_count": null,
   "metadata": {},
   "outputs": [],
   "source": [
    "%sql drop table if exists team"
   ]
  },
  {
   "cell_type": "code",
   "execution_count": null,
   "metadata": {},
   "outputs": [],
   "source": [
    "%%sql create table team (\n",
    "    team_id integer,\n",
    "    team_name varchar(50) not null,\n",
    "    team_owner varchar(50) not null,\n",
    "    primary key (team_id)\n",
    ")"
   ]
  },
  {
   "cell_type": "code",
   "execution_count": null,
   "metadata": {},
   "outputs": [],
   "source": [
    "%sql drop table if exists player"
   ]
  },
  {
   "cell_type": "code",
   "execution_count": null,
   "metadata": {},
   "outputs": [],
   "source": [
    "%%sql create table player (\n",
    "    player_id integer not null,\n",
    "    first_name varchar(25) not null,\n",
    "    last_name varchar(25) not null,\n",
    "    dob date not null,\n",
    "    team_id integer,\n",
    "    primary key (player_id),\n",
    "    unique(player_id, dob),\n",
    "    check (dob > '1980-01-31'),\n",
    "    foreign key (team_id) references team (team_id)\n",
    ")"
   ]
  },
  {
   "cell_type": "code",
   "execution_count": null,
   "metadata": {},
   "outputs": [],
   "source": [
    "%%sql insert into team values\n",
    "    (101, 'Mumbai Indians', 'Reliance Industry Ltd'),\n",
    "    (102, 'Chennai Super Kings', 'India Cements Ltd'),\n",
    "    (103, 'Delhi Capitals', 'JSW Sports')\n",
    "    ;"
   ]
  },
  {
   "cell_type": "code",
   "execution_count": null,
   "metadata": {},
   "outputs": [],
   "source": [
    "%%sql insert into player values\n",
    "    (1, 'Hardik', 'Pandya', '1993-10-11', 101),\n",
    "    (2, 'MS', 'Dhoni', '1981-07-07', 102),\n",
    "    (3, 'Rohit', 'Sharma', '1987-04-30', 101),\n",
    "    (4, 'Ruturaj', 'Gaikwad', '1997-01-31', 102);\n"
   ]
  },
  {
   "cell_type": "code",
   "execution_count": null,
   "metadata": {},
   "outputs": [],
   "source": [
    "%%sql create view mi_players as\n",
    "select player_id, first_name, last_name\n",
    "from player join team on player.team_id = team.team_id\n",
    "where team_name = 'Mumbai Indians';"
   ]
  },
  {
   "cell_type": "code",
   "execution_count": null,
   "metadata": {},
   "outputs": [],
   "source": [
    "%sql select * from mi_players;"
   ]
  },
  {
   "cell_type": "code",
   "execution_count": null,
   "metadata": {},
   "outputs": [],
   "source": [
    "%sql delete from mi_players where player_id = 1;"
   ]
  },
  {
   "cell_type": "code",
   "execution_count": null,
   "metadata": {},
   "outputs": [],
   "source": [
    "%sql insert into mi_players values (5, 'Jasprit', 'Bhumra');"
   ]
  },
  {
   "cell_type": "code",
   "execution_count": null,
   "metadata": {},
   "outputs": [],
   "source": [
    "%%sql create or replace function update_mi_players() returns trigger \n",
    "as $$\n",
    "    begin \n",
    "        if (TG_OP = 'DELETE') then\n",
    "            delete from player where player_id = OLD.player_id;\n",
    "            if not found then return null; end if;\n",
    "            return old;\n",
    "\n",
    "        elsif (TG_OP = 'UPDATE') then\n",
    "            update player set player_id = new.player_id \n",
    "                where first_name = old.first_name and last_name = old.last_name;\n",
    "            if not found then return null; end if;\n",
    "            return new;\n",
    "        \n",
    "        elsif (TG_OP = 'INSERT') then\n",
    "            raise exception 'Cannnot insert into view as data of birth not known';\n",
    "                \n",
    "        end if;\n",
    "\n",
    "    end;\n",
    "$$ language plpgsql;\n"
   ]
  },
  {
   "cell_type": "code",
   "execution_count": null,
   "metadata": {},
   "outputs": [],
   "source": [
    "%%sql create trigger check_update_on_view\n",
    "    instead of insert or update or delete on mi_players\n",
    "    for each row execute function update_mi_players(); "
   ]
  },
  {
   "cell_type": "code",
   "execution_count": null,
   "metadata": {},
   "outputs": [],
   "source": [
    "%sql delete from mi_players where player_id = 1;"
   ]
  },
  {
   "cell_type": "code",
   "execution_count": null,
   "metadata": {},
   "outputs": [],
   "source": [
    "%sql select * from mi_players;"
   ]
  },
  {
   "cell_type": "code",
   "execution_count": null,
   "metadata": {},
   "outputs": [],
   "source": [
    "%sql select * from player"
   ]
  },
  {
   "cell_type": "code",
   "execution_count": null,
   "metadata": {},
   "outputs": [],
   "source": [
    "%sql insert into mi_players values (5, 'Jasprit', 'Bhumra');"
   ]
  },
  {
   "cell_type": "code",
   "execution_count": null,
   "metadata": {},
   "outputs": [],
   "source": [
    "%sql update mi_players set player_id = 5 where first_name = 'Rohit' and last_name = 'Sharma';"
   ]
  },
  {
   "cell_type": "markdown",
   "metadata": {},
   "source": [
    "---\n",
    "### Using Rules\n"
   ]
  },
  {
   "cell_type": "code",
   "execution_count": null,
   "metadata": {},
   "outputs": [],
   "source": [
    "%sql drop trigger if exists check_update_on_view on mi_players"
   ]
  },
  {
   "cell_type": "markdown",
   "metadata": {},
   "source": [
    "Try inserting a tuple in the view again."
   ]
  },
  {
   "cell_type": "code",
   "execution_count": null,
   "metadata": {},
   "outputs": [],
   "source": [
    "%%sql create or replace rule view_insert as on insert to mi_players\n",
    "    do instead (\n",
    "        insert into player values (new.player_id, new.first_name, new.last_name, '1988-01-01', 101);\n",
    "    );"
   ]
  },
  {
   "cell_type": "code",
   "execution_count": null,
   "metadata": {},
   "outputs": [],
   "source": [
    "%sql insert into mi_players values (9, 'Jasprit', 'Bhumra');"
   ]
  },
  {
   "cell_type": "code",
   "execution_count": null,
   "metadata": {},
   "outputs": [],
   "source": [
    "%sql select * from player"
   ]
  },
  {
   "cell_type": "code",
   "execution_count": null,
   "metadata": {},
   "outputs": [],
   "source": [
    "%sql select * from mi_players;"
   ]
  }
 ],
 "metadata": {
  "kernelspec": {
   "display_name": "Python 3",
   "language": "python",
   "name": "python3"
  },
  "language_info": {
   "codemirror_mode": {
    "name": "ipython",
    "version": 3
   },
   "file_extension": ".py",
   "mimetype": "text/x-python",
   "name": "python",
   "nbconvert_exporter": "python",
   "pygments_lexer": "ipython3",
   "version": "3.11.10"
  }
 },
 "nbformat": 4,
 "nbformat_minor": 2
}
