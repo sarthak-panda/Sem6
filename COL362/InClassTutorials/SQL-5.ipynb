{
 "cells": [
  {
   "cell_type": "markdown",
   "metadata": {},
   "source": [
    "# SQL-5 \n",
    "\n",
    "## Integrity  Constraints\n",
    "### Handling referential integrity constraint violations\n",
    "---"
   ]
  },
  {
   "cell_type": "markdown",
   "metadata": {},
   "source": [
    "### Prepare the environment"
   ]
  },
  {
   "cell_type": "code",
   "execution_count": null,
   "metadata": {},
   "outputs": [],
   "source": [
    "pip install ipython-sql psycopg2"
   ]
  },
  {
   "cell_type": "code",
   "execution_count": null,
   "metadata": {},
   "outputs": [],
   "source": [
    "%load_ext sql"
   ]
  },
  {
   "cell_type": "markdown",
   "metadata": {},
   "source": [
    "**Note** For this activity make sure to drop and create a new `cricdb` database. Run the following command from postgres commandline.\n",
    "\n",
    "postgres# `drop database if exists cricdb;`\n",
    "\n",
    "postgres# `create database cricdb;`"
   ]
  },
  {
   "cell_type": "code",
   "execution_count": null,
   "metadata": {},
   "outputs": [],
   "source": []
  },
  {
   "cell_type": "code",
   "execution_count": null,
   "metadata": {},
   "outputs": [],
   "source": [
    "%sql postgresql://postgres@localhost:5432/cricdb"
   ]
  },
  {
   "cell_type": "code",
   "execution_count": null,
   "metadata": {},
   "outputs": [],
   "source": [
    "%sql drop table if exists team"
   ]
  },
  {
   "cell_type": "code",
   "execution_count": null,
   "metadata": {},
   "outputs": [],
   "source": [
    "%%sql create table team (\n",
    "    team_id integer,\n",
    "    team_name varchar(50) not null,\n",
    "    team_owner varchar(50) not null,\n",
    "    primary key (team_id)\n",
    ")"
   ]
  },
  {
   "cell_type": "code",
   "execution_count": null,
   "metadata": {},
   "outputs": [],
   "source": [
    "%sql drop table if exists player"
   ]
  },
  {
   "cell_type": "code",
   "execution_count": null,
   "metadata": {},
   "outputs": [],
   "source": [
    "%%sql create table player (\n",
    "    player_id integer not null,\n",
    "    first_name varchar(25) not null,\n",
    "    last_name varchar(25) not null,\n",
    "    dob date not null,\n",
    "    team_id integer,\n",
    "    primary key (player_id),\n",
    "    unique(player_id, dob),\n",
    "    check (dob > '1980-01-31'),\n",
    "    foreign key (team_id) references team (team_id)\n",
    ")"
   ]
  },
  {
   "cell_type": "code",
   "execution_count": null,
   "metadata": {},
   "outputs": [],
   "source": [
    "%%sql insert into team values\n",
    "    (101, 'Mumbai Indians', 'Reliance Industry Ltd'),\n",
    "    (102, 'Chennai Super Kings', 'India Cements Ltd'),\n",
    "    (103, 'Delhi Capitals', 'JSW Sports')\n",
    "    ;"
   ]
  },
  {
   "cell_type": "code",
   "execution_count": null,
   "metadata": {},
   "outputs": [],
   "source": [
    "%%sql insert into player values\n",
    "    (1, 'Hardik', 'Pandya', '1993-10-11', 101),\n",
    "    (2, 'MS', 'Dhoni', '1981-07-07', 102),\n",
    "    (3, 'Rohit', 'Sharma', '1987-04-30', 101),\n",
    "    (4, 'Ruturaj', 'Gaikwad', '1997-01-31', 102);\n"
   ]
  },
  {
   "cell_type": "code",
   "execution_count": null,
   "metadata": {},
   "outputs": [],
   "source": [
    "%sql select * from team\n"
   ]
  },
  {
   "cell_type": "code",
   "execution_count": null,
   "metadata": {},
   "outputs": [],
   "source": [
    "%sql select * from player"
   ]
  },
  {
   "cell_type": "markdown",
   "metadata": {},
   "source": [
    "**Note:** Observe the behaviour when deleting tuples from the `team` table"
   ]
  },
  {
   "cell_type": "code",
   "execution_count": null,
   "metadata": {},
   "outputs": [],
   "source": [
    "%sql delete from team where team_id = 102;"
   ]
  },
  {
   "cell_type": "code",
   "execution_count": null,
   "metadata": {},
   "outputs": [],
   "source": [
    "%sql delete from team where team_id = 103;"
   ]
  },
  {
   "cell_type": "markdown",
   "metadata": {},
   "source": [
    "**Note** The above scenarios illustrate the default behaviour when having a referential integrity  constraint.\n",
    "\n",
    "---\n",
    "\n",
    "### No action/Set null"
   ]
  },
  {
   "cell_type": "code",
   "execution_count": null,
   "metadata": {},
   "outputs": [],
   "source": [
    "%sql drop table if exists player"
   ]
  },
  {
   "cell_type": "code",
   "execution_count": null,
   "metadata": {},
   "outputs": [],
   "source": [
    "%sql drop table if exists team"
   ]
  },
  {
   "cell_type": "code",
   "execution_count": null,
   "metadata": {},
   "outputs": [],
   "source": [
    "%%sql create table team (\n",
    "    team_id integer,\n",
    "    team_name varchar(50) not null,\n",
    "    team_owner varchar(50) not null,\n",
    "    primary key (team_id)\n",
    ")"
   ]
  },
  {
   "cell_type": "code",
   "execution_count": null,
   "metadata": {},
   "outputs": [],
   "source": [
    "%%sql create table player (\n",
    "    player_id integer not null,\n",
    "    first_name varchar(25) not null,\n",
    "    last_name varchar(25) not null,\n",
    "    dob date not null,\n",
    "    team_id integer,\n",
    "    primary key (player_id),\n",
    "    unique(player_id, dob),\n",
    "    check (dob > '1980-01-31'),\n",
    "    foreign key (team_id) references team (team_id) \n",
    "    on delete set null\n",
    ")"
   ]
  },
  {
   "cell_type": "code",
   "execution_count": null,
   "metadata": {},
   "outputs": [],
   "source": [
    "%%sql insert into team values\n",
    "    (101, 'Mumbai Indians', 'Reliance Industry Ltd'),\n",
    "    (102, 'Chennai Super Kings', 'India Cements Ltd'),\n",
    "    (103, 'Delhi Capitals', 'JSW Sports')\n",
    "    ;"
   ]
  },
  {
   "cell_type": "code",
   "execution_count": null,
   "metadata": {},
   "outputs": [],
   "source": [
    "%%sql insert into player values\n",
    "    (1, 'Hardik', 'Pandya', '1993-10-11', 101),\n",
    "    (2, 'MS', 'Dhoni', '1981-07-07', 102),\n",
    "    (3, 'Rohit', 'Sharma', '1987-04-30', 101),\n",
    "    (4, 'Ruturaj', 'Gaikwad', '1997-01-31', 102);\n"
   ]
  },
  {
   "cell_type": "code",
   "execution_count": null,
   "metadata": {},
   "outputs": [],
   "source": [
    "%sql select * from team"
   ]
  },
  {
   "cell_type": "code",
   "execution_count": null,
   "metadata": {},
   "outputs": [],
   "source": [
    "%sql select * from player"
   ]
  },
  {
   "cell_type": "code",
   "execution_count": null,
   "metadata": {},
   "outputs": [],
   "source": [
    "%sql delete from team where team_id = 102;"
   ]
  },
  {
   "cell_type": "code",
   "execution_count": null,
   "metadata": {},
   "outputs": [],
   "source": [
    "%sql select * from player"
   ]
  },
  {
   "cell_type": "markdown",
   "metadata": {},
   "source": [
    "---\n",
    "### CASCADE"
   ]
  },
  {
   "cell_type": "code",
   "execution_count": null,
   "metadata": {},
   "outputs": [],
   "source": [
    "%sql drop table if exists player"
   ]
  },
  {
   "cell_type": "code",
   "execution_count": null,
   "metadata": {},
   "outputs": [],
   "source": [
    "%sql drop table if exists team"
   ]
  },
  {
   "cell_type": "code",
   "execution_count": null,
   "metadata": {},
   "outputs": [],
   "source": [
    "%%sql create table team (\n",
    "    team_id integer,\n",
    "    team_name varchar(50) not null,\n",
    "    team_owner varchar(50) not null,\n",
    "    primary key (team_id)\n",
    ")"
   ]
  },
  {
   "cell_type": "code",
   "execution_count": null,
   "metadata": {},
   "outputs": [],
   "source": [
    "%%sql create table player (\n",
    "    player_id integer not null,\n",
    "    first_name varchar(25) not null,\n",
    "    last_name varchar(25) not null,\n",
    "    dob date not null,\n",
    "    team_id integer,\n",
    "    primary key (player_id),\n",
    "    unique(player_id, dob),\n",
    "    check (dob > '1980-01-31'),\n",
    "    foreign key (team_id) references team (team_id) \n",
    "    on delete cascade\n",
    ")"
   ]
  },
  {
   "cell_type": "code",
   "execution_count": null,
   "metadata": {},
   "outputs": [],
   "source": [
    "%sql delete from team where team_id = 102;"
   ]
  },
  {
   "cell_type": "code",
   "execution_count": null,
   "metadata": {},
   "outputs": [],
   "source": [
    "%sql select * from player"
   ]
  },
  {
   "cell_type": "code",
   "execution_count": null,
   "metadata": {},
   "outputs": [],
   "source": [
    "%sql select * from team"
   ]
  },
  {
   "cell_type": "markdown",
   "metadata": {},
   "source": [
    "**Exercise** Try cascading update or delete that cannot be handled. When can this happen? (hint: recall the `new_category` relation that we created earlier)"
   ]
  },
  {
   "cell_type": "markdown",
   "metadata": {},
   "source": [
    "---\n",
    "### Set Default"
   ]
  },
  {
   "cell_type": "code",
   "execution_count": null,
   "metadata": {},
   "outputs": [],
   "source": [
    "%sql drop table if exists player\n"
   ]
  },
  {
   "cell_type": "code",
   "execution_count": null,
   "metadata": {},
   "outputs": [],
   "source": [
    "%sql drop table if exists team\n"
   ]
  },
  {
   "cell_type": "code",
   "execution_count": null,
   "metadata": {},
   "outputs": [],
   "source": [
    "%%sql create table team (\n",
    "    team_id integer,\n",
    "    team_name varchar(50) not null,\n",
    "    team_owner varchar(50) not null,\n",
    "    primary key (team_id)\n",
    ")\n"
   ]
  },
  {
   "cell_type": "code",
   "execution_count": null,
   "metadata": {},
   "outputs": [],
   "source": [
    "%%sql create table player (\n",
    "    player_id integer not null,\n",
    "    first_name varchar(25) not null,\n",
    "    last_name varchar(25) not null,\n",
    "    dob date not null,\n",
    "    team_id integer DEFAULT 101,\n",
    "    primary key (player_id),\n",
    "    unique(player_id, dob),\n",
    "    check (dob > '1980-01-31'),\n",
    "    foreign key (team_id) references team (team_id) \n",
    "    on delete set default\n",
    ")"
   ]
  },
  {
   "cell_type": "code",
   "execution_count": null,
   "metadata": {},
   "outputs": [],
   "source": [
    "%%sql insert into team values\n",
    "    (101, 'Mumbai Indians', 'Reliance Industry Ltd'),\n",
    "    (102, 'Chennai Super Kings', 'India Cements Ltd'),\n",
    "    (103, 'Delhi Capitals', 'JSW Sports')\n",
    "    ;\n"
   ]
  },
  {
   "cell_type": "code",
   "execution_count": null,
   "metadata": {},
   "outputs": [],
   "source": [
    "%%sql insert into player values\n",
    "    (1, 'Hardik', 'Pandya', '1993-10-11', 101),\n",
    "    (2, 'MS', 'Dhoni', '1981-07-07', 102),\n",
    "    (3, 'Rohit', 'Sharma', '1987-04-30', 101),\n",
    "    (4, 'Ruturaj', 'Gaikwad', '1997-01-31', 102);\n"
   ]
  },
  {
   "cell_type": "code",
   "execution_count": null,
   "metadata": {},
   "outputs": [],
   "source": [
    "%sql select * from player\n"
   ]
  },
  {
   "cell_type": "code",
   "execution_count": null,
   "metadata": {},
   "outputs": [],
   "source": [
    "%sql select * from team"
   ]
  },
  {
   "cell_type": "code",
   "execution_count": null,
   "metadata": {},
   "outputs": [],
   "source": [
    "%sql delete from team where team_id = 102;\n"
   ]
  },
  {
   "cell_type": "code",
   "execution_count": null,
   "metadata": {},
   "outputs": [],
   "source": [
    "%sql select * from player\n"
   ]
  },
  {
   "cell_type": "code",
   "execution_count": null,
   "metadata": {},
   "outputs": [],
   "source": [
    "%sql select * from team"
   ]
  },
  {
   "cell_type": "markdown",
   "metadata": {},
   "source": [
    "---\n",
    "### Drop table"
   ]
  },
  {
   "cell_type": "code",
   "execution_count": null,
   "metadata": {},
   "outputs": [],
   "source": [
    "%sql drop table if exists team"
   ]
  },
  {
   "cell_type": "code",
   "execution_count": null,
   "metadata": {},
   "outputs": [],
   "source": [
    "%sql drop table if exists team cascade"
   ]
  },
  {
   "cell_type": "code",
   "execution_count": null,
   "metadata": {},
   "outputs": [],
   "source": [
    "%sql select * from player"
   ]
  },
  {
   "cell_type": "markdown",
   "metadata": {},
   "source": [
    "Q: What is the schema of the relation `player`?\n",
    "\n",
    "`cricdb# \\d player;`"
   ]
  }
 ],
 "metadata": {
  "kernelspec": {
   "display_name": "Python 3",
   "language": "python",
   "name": "python3"
  },
  "language_info": {
   "codemirror_mode": {
    "name": "ipython",
    "version": 3
   },
   "file_extension": ".py",
   "mimetype": "text/x-python",
   "name": "python",
   "nbconvert_exporter": "python",
   "pygments_lexer": "ipython3",
   "version": "3.11.6"
  }
 },
 "nbformat": 4,
 "nbformat_minor": 2
}
