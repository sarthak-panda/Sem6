{
 "cells": [
  {
   "cell_type": "markdown",
   "metadata": {},
   "source": [
    "# Install packages to work with PostgreSQL DB\n",
    "* ipython-sql ==> enable SQL commands to work in Jupyter notebook environments\n",
    "* psycopg-2 ==> the package to connect with postgreSQL database"
   ]
  },
  {
   "cell_type": "code",
   "execution_count": null,
   "metadata": {},
   "outputs": [],
   "source": [
    "!pip install ipython-sql psycopg2"
   ]
  },
  {
   "cell_type": "markdown",
   "metadata": {},
   "source": [
    "# Activate the SQL environment"
   ]
  },
  {
   "cell_type": "code",
   "execution_count": null,
   "metadata": {},
   "outputs": [],
   "source": [
    "%load_ext sql"
   ]
  },
  {
   "cell_type": "markdown",
   "metadata": {},
   "source": [
    "# Connect to postgresql database\n",
    "* These exercises use the testdb.sql database that was provided\n",
    "* Make sure to have postgresql installed on your machines\n",
    "* the following command assumes that you have created a test database named \"testdb\" by running\n",
    "``` postgres=# create database testdb;```\n",
    "* import the test database provided (testdb.sql) into the newly created testdb database by running the following command from command line. It assumes \"postgres\" as the database user. Enter the password if you have any.\n",
    "``` psql -U postgres -W -d testdb -f testdb.sql```"
   ]
  },
  {
   "cell_type": "markdown",
   "metadata": {},
   "source": [
    "Note: If you have a password for your database, then replace the following command with\n",
    "```%sql postgresql://<username>:<password>@<host>:<port>/<database>```"
   ]
  },
  {
   "cell_type": "code",
   "execution_count": null,
   "metadata": {},
   "outputs": [],
   "source": [
    "%sql postgresql://postgres@localhost:5432/testdb"
   ]
  }
 ],
 "metadata": {
  "kernelspec": {
   "display_name": "Python 3",
   "language": "python",
   "name": "python3"
  },
  "language_info": {
   "codemirror_mode": {
    "name": "ipython",
    "version": 3
   },
   "file_extension": ".py",
   "mimetype": "text/x-python",
   "name": "python",
   "nbconvert_exporter": "python",
   "pygments_lexer": "ipython3",
   "version": "3.11.10"
  }
 },
 "nbformat": 4,
 "nbformat_minor": 2
}
